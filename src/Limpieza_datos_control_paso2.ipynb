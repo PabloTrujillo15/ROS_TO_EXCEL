import pandas as pd 
import numpy as np

df1 = pd.read_csv("datos_int1.csv")
df2 = pd.read_csv("datos_ran1.csv")

#print(df1,df2)
df= pd.DataFrame() 
df = df.T

df = pd.concat([df1,df2], axis = 1,ignore_index=True)

df.to_csv("/home/pablotrujillo/ros_catkin_ws/src/laser/datos_excel/datos_filtrados1.csv",index=False)
