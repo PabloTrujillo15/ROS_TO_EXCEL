import pandas as pd 
import numpy as np
import time as time
df_base = pd.read_csv("datos_filtrados1.csv")

df1 = pd.read_csv("datos_int2.csv")
df2 = pd.read_csv("datos_ran2.csv")

#print(df1,df2)
df= pd.DataFrame() 
df = df.T

df = pd.concat([df1,df2], axis = 1,ignore_index=True)

df.to_csv("/home/pablotrujillo/ros_catkin_ws/src/laser/datos_excel/datos_filtrados2.csv",index=False)

df = pd.concat([df_base,df], axis = 1,ignore_index=True)

df=df.rename(columns={df.columns[0]:"Intensidad_base"})

df=df.rename(columns={df.columns[1]:"Rango_base"})

df=df.rename(columns={df.columns[2]:"Intensidad_prueba"})

df=df.rename(columns={df.columns[3]:"Rango_prueba"})

#df=df.rename(columns={df.columns[4]:"RMSE"})

#df = df.fillna("1")

media_intensidad_base = np.mean(df["Intensidad_base"])
media_intensidad_prueba = np.mean(df["Intensidad_prueba"])
#Tamaño del vectro base/Control
N_base = len(df["Intensidad_base"])
N_prueba = len(df["Intensidad_prueba"])
#Error Cuadratico medio Intensidad (1/N(Prueba-Control))


RMSE1 = np.sqrt(((media_intensidad_prueba-media_intensidad_base)**2)/N_prueba)

#df = df.insert(2,"RMSE",[RMSE1],True)

print("Intensidad media de control:",media_intensidad_base)
print("Intensidad media de prueba:",media_intensidad_prueba)
print("Tamaño Vector base:",N_base)
print("Tamaño Vector de prueba:",N_prueba)
print("RSME1:",RMSE1)

print(df)

df_final = df.to_csv("/home/pablotrujillo/ros_catkin_ws/src/laser/datos_excel/datos_filtrados12.csv",index=False)
#df = df.insert(2,"RMSE",[])
#print(prueba)df=df.rename(columns={df.columns[3]:"Rango_prueba"})
